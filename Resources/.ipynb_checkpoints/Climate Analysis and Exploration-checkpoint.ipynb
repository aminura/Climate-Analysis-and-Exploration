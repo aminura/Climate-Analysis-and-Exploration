{
 "cells": [
  {
   "cell_type": "code",
   "execution_count": 1,
   "metadata": {},
   "outputs": [],
   "source": [
    "# Import Dependencies\n",
    "\n",
    "# Import Sqlalchemy\n",
    "import sqlalchemy\n",
    "# Import the column types necessary that is being used in the database\n",
    "from sqlalchemy import Column, Integer, String, Float\n",
    "\n",
    "# Import automap base\n",
    "from sqlalchemy.ext.automap import automap_base\n",
    "# Import Session\n",
    "from sqlalchemy.orm import Session\n",
    "# Imports the method used for connecting and inspecting DB\n",
    "from sqlalchemy import create_engine,inspect\n",
    "# Import func from sqlalchemy to count\n",
    "from sqlalchemy import func\n",
    "# Import desc from sqlalchemy to order the records in descending order\n",
    "from sqlalchemy import desc\n",
    "\n",
    "# Import Pandas\n",
    "import pandas as pd\n",
    "# Import numpy\n",
    "import numpy as np\n",
    "# Import datetime \n",
    "import datetime as dt\n",
    "\n",
    "# Import matplotlib,pyplot and the seaborn style in matplotlib\n",
    "import matplotlib\n",
    "# from matplotlib import style\n",
    "# style.use('seaborn')\n",
    "from matplotlib import style\n",
    "style.use('fivethirtyeight')\n",
    "import matplotlib.pyplot as plt"
   ]
  },
  {
   "cell_type": "code",
   "execution_count": 2,
   "metadata": {},
   "outputs": [],
   "source": [
    "# Connect to your sqlite database using sqlalchemy create_engine.\n",
    "engine = create_engine(\"sqlite:////Users/arunima_menon/Downloads/Resources/hawaii.sqlite\")"
   ]
  },
  {
   "cell_type": "code",
   "execution_count": 3,
   "metadata": {},
   "outputs": [],
   "source": [
    "# reflect an existing database into a new model \n",
    "Base = automap_base()\n",
    "# reflect the tables\n",
    "Base.prepare(engine, reflect=True)"
   ]
  },
  {
   "cell_type": "code",
   "execution_count": 4,
   "metadata": {},
   "outputs": [
    {
     "data": {
      "text/plain": [
       "['measurement', 'station']"
      ]
     },
     "execution_count": 4,
     "metadata": {},
     "output_type": "execute_result"
    }
   ],
   "source": [
    "# We can view all of the classes that automap found\n",
    "# \"keys\" refers to the table names found by automap present in the class \n",
    "Base.classes.keys()"
   ]
  },
  {
   "cell_type": "code",
   "execution_count": 5,
   "metadata": {},
   "outputs": [],
   "source": [
    "# Save references to each table\n",
    "Measurement = Base.classes.measurement\n",
    "Station = Base.classes.station"
   ]
  },
  {
   "cell_type": "code",
   "execution_count": 6,
   "metadata": {},
   "outputs": [],
   "source": [
    "# Create our session (link) from Python to the DB\n",
    "Session = Session(engine)"
   ]
  },
  {
   "cell_type": "code",
   "execution_count": 7,
   "metadata": {},
   "outputs": [],
   "source": [
    "#\"inspect\" delivers runtime information about a wide variety of SQLAlchemy objects\n",
    "Inspect = inspect(engine)"
   ]
  },
  {
   "cell_type": "markdown",
   "metadata": {},
   "source": [
    "# Exploratory Climate Analysis"
   ]
  },
  {
   "cell_type": "code",
   "execution_count": 8,
   "metadata": {},
   "outputs": [],
   "source": [
    "# Design a query to retrieve the last 12 months of precipitation data and plot the results\n",
    "\n",
    "# Calculate the date 1 year ago from the last data point in the database\n",
    "\n",
    "# Perform a query to retrieve the data and precipitation scores\n",
    "\n",
    "# Save the query results as a Pandas DataFrame and set the index to the date column\n",
    "\n",
    "# Sort the dataframe by date\n",
    "\n",
    "# Use Pandas Plotting with Matplotlib to plot the data"
   ]
  },
  {
   "cell_type": "code",
   "execution_count": 9,
   "metadata": {},
   "outputs": [
    {
     "name": "stdout",
     "output_type": "stream",
     "text": [
      "2017-08-23\n"
     ]
    }
   ],
   "source": [
    "#Step 1: Get the latest date\n",
    "##Method 1: Using session.execute\n",
    "Latest_date = Session.execute(\"SELECT MAX(date) FROM Measurement\").fetchall()\n",
    "#print(Latest_date)\n",
    "##Method 2: Using session.query\n",
    "Latest_date = Session.query(func.max(Measurement.date)).all()\n",
    "#print(Latest_date)\n",
    "End_Date = Latest_date[0][0]\n",
    "print(End_Date)"
   ]
  },
  {
   "cell_type": "code",
   "execution_count": 10,
   "metadata": {},
   "outputs": [
    {
     "name": "stdout",
     "output_type": "stream",
     "text": [
      "2016-08-23\n"
     ]
    }
   ],
   "source": [
    "#Step 2: Get the year old date (Last year)\n",
    "Struct = dt.date.today()\n",
    "End_Date_dateformat = Struct.replace(year=int(End_Date[:4]),month=int(End_Date[5:7]),day=int(End_Date[8:]))\n",
    "Last_date_year = End_Date_dateformat - dt.timedelta(days=365)    \n",
    "Start_Date = Last_date_year.strftime(\"%Y-%m-%d\")\n",
    "print(Start_Date)"
   ]
  },
  {
   "cell_type": "code",
   "execution_count": 11,
   "metadata": {},
   "outputs": [
    {
     "name": "stdout",
     "output_type": "stream",
     "text": [
      "Date range is starting from 2016-08-23 and ending at 2017-08-23\n"
     ]
    }
   ],
   "source": [
    "print(\"Date range is starting from {} and ending at {}\".format(Start_Date,End_Date))"
   ]
  },
  {
   "cell_type": "code",
   "execution_count": 12,
   "metadata": {},
   "outputs": [],
   "source": [
    "#Step 3: Perform a query to get the precipitation data for 1 year(as per the DB) (In desc order of date)\n",
    "PRCP_data = Session.query(Measurement.date,Measurement.prcp)\\\n",
    "                          .filter(Measurement.date <= End_Date)\\\n",
    "                          .filter(Measurement.date >= Start_Date)\\\n",
    "                          .order_by(Measurement.date.desc()).all()\n",
    "# for data in PRCP_data: \n",
    "#     print(data)"
   ]
  },
  {
   "cell_type": "code",
   "execution_count": 14,
   "metadata": {},
   "outputs": [
    {
     "data": {
      "text/html": [
       "<div>\n",
       "<style scoped>\n",
       "    .dataframe tbody tr th:only-of-type {\n",
       "        vertical-align: middle;\n",
       "    }\n",
       "\n",
       "    .dataframe tbody tr th {\n",
       "        vertical-align: top;\n",
       "    }\n",
       "\n",
       "    .dataframe thead th {\n",
       "        text-align: right;\n",
       "    }\n",
       "</style>\n",
       "<table border=\"1\" class=\"dataframe\">\n",
       "  <thead>\n",
       "    <tr style=\"text-align: right;\">\n",
       "      <th></th>\n",
       "      <th>Precipitation Score</th>\n",
       "    </tr>\n",
       "    <tr>\n",
       "      <th>Date</th>\n",
       "      <th></th>\n",
       "    </tr>\n",
       "  </thead>\n",
       "  <tbody>\n",
       "    <tr>\n",
       "      <th>2017-08-23</th>\n",
       "      <td>0.00</td>\n",
       "    </tr>\n",
       "    <tr>\n",
       "      <th>2017-08-23</th>\n",
       "      <td>0.00</td>\n",
       "    </tr>\n",
       "    <tr>\n",
       "      <th>2017-08-23</th>\n",
       "      <td>0.08</td>\n",
       "    </tr>\n",
       "    <tr>\n",
       "      <th>2017-08-23</th>\n",
       "      <td>0.45</td>\n",
       "    </tr>\n",
       "    <tr>\n",
       "      <th>2017-08-22</th>\n",
       "      <td>0.00</td>\n",
       "    </tr>\n",
       "  </tbody>\n",
       "</table>\n",
       "</div>"
      ],
      "text/plain": [
       "            Precipitation Score\n",
       "Date                           \n",
       "2017-08-23                 0.00\n",
       "2017-08-23                 0.00\n",
       "2017-08-23                 0.08\n",
       "2017-08-23                 0.45\n",
       "2017-08-22                 0.00"
      ]
     },
     "execution_count": 14,
     "metadata": {},
     "output_type": "execute_result"
    }
   ],
   "source": [
    "#Step 4: Save the query results as a Pandas DataFrame and set the index to the date column\n",
    "PRCP_data_DF = pd.DataFrame(PRCP_data).rename(columns={\"date\":\"Date\",\"prcp\":\"Precipitation Score\"})\n",
    "PRCP_data_DF.set_index(\"Date\",inplace=True)\n",
    "PRCP_data_DF.head()"
   ]
  },
  {
   "cell_type": "code",
   "execution_count": 16,
   "metadata": {},
   "outputs": [
    {
     "data": {
      "image/png": "[encoded data removed]",
      "text/plain": [
       "<Figure size 720x360 with 1 Axes>"
      ]
     },
     "metadata": {
      "needs_background": "light"
     },
     "output_type": "display_data"
    }
   ],
   "source": [
    "#Step 5: Plot the results using the DataFrame plot method.\n",
    "PRCP_data_DF.plot(figsize=(10,5),ylim=(0,8),title=f'Precipitation Score from {Start_Date} till {End_Date}',\\\n",
    "                  label=\"Precipitation\",rot=45)\n",
    "plt.legend(loc=\"upper left\")\n",
    "\n",
    "plt.show()"
   ]
  },
  {
   "cell_type": "code",
   "execution_count": 35,
   "metadata": {},
   "outputs": [
    {
     "data": {
      "text/html": [
       "<div>\n",
       "<style scoped>\n",
       "    .dataframe tbody tr th:only-of-type {\n",
       "        vertical-align: middle;\n",
       "    }\n",
       "\n",
       "    .dataframe tbody tr th {\n",
       "        vertical-align: top;\n",
       "    }\n",
       "\n",
       "    .dataframe thead th {\n",
       "        text-align: right;\n",
       "    }\n",
       "</style>\n",
       "<table border=\"1\" class=\"dataframe\">\n",
       "  <thead>\n",
       "    <tr style=\"text-align: right;\">\n",
       "      <th></th>\n",
       "      <th>Precipitation Score</th>\n",
       "    </tr>\n",
       "  </thead>\n",
       "  <tbody>\n",
       "    <tr>\n",
       "      <th>count</th>\n",
       "      <td>2021.000000</td>\n",
       "    </tr>\n",
       "    <tr>\n",
       "      <th>mean</th>\n",
       "      <td>0.177279</td>\n",
       "    </tr>\n",
       "    <tr>\n",
       "      <th>std</th>\n",
       "      <td>0.461190</td>\n",
       "    </tr>\n",
       "    <tr>\n",
       "      <th>min</th>\n",
       "      <td>0.000000</td>\n",
       "    </tr>\n",
       "    <tr>\n",
       "      <th>25%</th>\n",
       "      <td>0.000000</td>\n",
       "    </tr>\n",
       "    <tr>\n",
       "      <th>50%</th>\n",
       "      <td>0.020000</td>\n",
       "    </tr>\n",
       "    <tr>\n",
       "      <th>75%</th>\n",
       "      <td>0.130000</td>\n",
       "    </tr>\n",
       "    <tr>\n",
       "      <th>max</th>\n",
       "      <td>6.700000</td>\n",
       "    </tr>\n",
       "  </tbody>\n",
       "</table>\n",
       "</div>"
      ],
      "text/plain": [
       "       Precipitation Score\n",
       "count          2021.000000\n",
       "mean              0.177279\n",
       "std               0.461190\n",
       "min               0.000000\n",
       "25%               0.000000\n",
       "50%               0.020000\n",
       "75%               0.130000\n",
       "max               6.700000"
      ]
     },
     "execution_count": 35,
     "metadata": {},
     "output_type": "execute_result"
    }
   ],
   "source": [
    "# Use Pandas to calcualte the summary statistics for the precipitation data\n",
    "PRCP_data_DF.describe()"
   ]
  },
  {
   "cell_type": "markdown",
   "metadata": {},
   "source": [
    "# Station Analysis"
   ]
  },
  {
   "cell_type": "code",
   "execution_count": 36,
   "metadata": {},
   "outputs": [
    {
     "name": "stdout",
     "output_type": "stream",
     "text": [
      "Total number of stations is: 9\n"
     ]
    }
   ],
   "source": [
    "# Design a query to show how many stations are available in this dataset?\n",
    "\n",
    "#Step1: Query to find the count the number of stations\n",
    "#Method 1: Using session.execute and new f-string formatting for printing\n",
    "# Total_stations = Session.execute(\"Select count(*) from Station\").fetchall()\n",
    "# print(f'Total number of stations is: {Total_stations[0][0]}')\n",
    "\n",
    "# #Method 2: Using session.query and new-style string formatting\n",
    "Total_stations = Session.query(Station).count()\n",
    "print('Total number of stations is: {}'.format(Total_stations))"
   ]
  },
  {
   "cell_type": "code",
   "execution_count": 37,
   "metadata": {},
   "outputs": [
    {
     "name": "stdout",
     "output_type": "stream",
     "text": [
      "Rank\tStation ID\tObservations\n",
      "1\tUSC00519281\t2772\n",
      "2\tUSC00519397\t2724\n",
      "3\tUSC00513117\t2709\n",
      "4\tUSC00519523\t2669\n",
      "5\tUSC00516128\t2612\n",
      "6\tUSC00514830\t2202\n",
      "7\tUSC00511918\t1979\n",
      "8\tUSC00517948\t1372\n",
      "9\tUSC00518838\t511\n"
     ]
    }
   ],
   "source": [
    "# What are the most active stations? (i.e. what stations have the most rows)?\n",
    "# List the stations and the counts in descending order.\n",
    "\n",
    "print(\"Rank\\tStation ID\\tObservations\")\n",
    "i = 1\n",
    "for active_stations in Most_Active_stations:\n",
    "    print(\"%d\\t%s\\t%d\" %(i,active_stations[0],active_stations[1]))\n",
    "    i+=1"
   ]
  },
  {
   "cell_type": "code",
   "execution_count": 39,
   "metadata": {},
   "outputs": [
    {
     "data": {
      "text/plain": [
       "[(54.0, 85.0, 71.66378066378067)]"
      ]
     },
     "execution_count": 39,
     "metadata": {},
     "output_type": "execute_result"
    }
   ],
   "source": [
    "# Using the station id from the previous query, calculate the lowest temperature recorded, \n",
    "# highest temperature recorded, and average temperature most active station?\n",
    "\n",
    "Session.query(func.min(Measurement.tobs),func.max(Measurement.tobs),func.avg(Measurement.tobs))\\\n",
    "                  .filter(Measurement.station == Station_Highest_Obs[0]).all()"
   ]
  },
  {
   "cell_type": "code",
   "execution_count": 40,
   "metadata": {},
   "outputs": [],
   "source": [
    "# Choose the station with the highest number of temperature observations.\n",
    "# Query the last 12 months of temperature observation data for this station and plot the results as a histogram\n",
    "\n",
    "Results = Session.query(Measurement.date,Measurement.station,Measurement.tobs)\\\n",
    "             .filter(Measurement.date >= Start_Date).filter(Measurement.date<=End_Date)\\\n",
    "             .filter(Measurement.station == Station_Highest_Obs[0]).order_by(desc(Measurement.date)).all()"
   ]
  },
  {
   "cell_type": "code",
   "execution_count": 41,
   "metadata": {},
   "outputs": [
    {
     "data": {
      "text/html": [
       "<div>\n",
       "<style scoped>\n",
       "    .dataframe tbody tr th:only-of-type {\n",
       "        vertical-align: middle;\n",
       "    }\n",
       "\n",
       "    .dataframe tbody tr th {\n",
       "        vertical-align: top;\n",
       "    }\n",
       "\n",
       "    .dataframe thead th {\n",
       "        text-align: right;\n",
       "    }\n",
       "</style>\n",
       "<table border=\"1\" class=\"dataframe\">\n",
       "  <thead>\n",
       "    <tr style=\"text-align: right;\">\n",
       "      <th></th>\n",
       "      <th>Date</th>\n",
       "      <th>Station ID</th>\n",
       "      <th>Temperature_Recorded</th>\n",
       "    </tr>\n",
       "  </thead>\n",
       "  <tbody>\n",
       "    <tr>\n",
       "      <th>0</th>\n",
       "      <td>2017-08-18</td>\n",
       "      <td>USC00519281</td>\n",
       "      <td>79.0</td>\n",
       "    </tr>\n",
       "    <tr>\n",
       "      <th>1</th>\n",
       "      <td>2017-08-17</td>\n",
       "      <td>USC00519281</td>\n",
       "      <td>76.0</td>\n",
       "    </tr>\n",
       "    <tr>\n",
       "      <th>2</th>\n",
       "      <td>2017-08-16</td>\n",
       "      <td>USC00519281</td>\n",
       "      <td>76.0</td>\n",
       "    </tr>\n",
       "    <tr>\n",
       "      <th>3</th>\n",
       "      <td>2017-08-15</td>\n",
       "      <td>USC00519281</td>\n",
       "      <td>77.0</td>\n",
       "    </tr>\n",
       "    <tr>\n",
       "      <th>4</th>\n",
       "      <td>2017-08-14</td>\n",
       "      <td>USC00519281</td>\n",
       "      <td>77.0</td>\n",
       "    </tr>\n",
       "  </tbody>\n",
       "</table>\n",
       "</div>"
      ],
      "text/plain": [
       "         Date   Station ID  Temperature_Recorded\n",
       "0  2017-08-18  USC00519281                  79.0\n",
       "1  2017-08-17  USC00519281                  76.0\n",
       "2  2017-08-16  USC00519281                  76.0\n",
       "3  2017-08-15  USC00519281                  77.0\n",
       "4  2017-08-14  USC00519281                  77.0"
      ]
     },
     "execution_count": 41,
     "metadata": {},
     "output_type": "execute_result"
    }
   ],
   "source": [
    "Last12_tobs_DF = pd.DataFrame(Results,columns=[\"Date\",\"Station ID\",\"Temperature_Recorded\"])\n",
    "Last12_tobs_DF.head()"
   ]
  },
  {
   "cell_type": "code",
   "execution_count": 42,
   "metadata": {},
   "outputs": [
    {
     "name": "stdout",
     "output_type": "stream",
     "text": [
      "The station with the highest number of observation is USC00519281 with 2772 number of observations.\n"
     ]
    }
   ],
   "source": [
    "Station_Highest_Obs = Session.query(Measurement.station,func.count(Measurement.station))\\\n",
    "                      .group_by(Measurement.station)\\\n",
    "                      .order_by(desc(func.count(Measurement.station))).first()\n",
    "#print(\"\\n**Using session.query and concatenating strings for printing**\")\n",
    "#Station_Highest_Obs  \n",
    "print(\"The station with the highest number of observation is \"+str(Station_Highest_Obs[0])+\" with \" +\\\n",
    "      str(Station_Highest_Obs[1]) + \" number of observations.\")"
   ]
  },
  {
   "cell_type": "code",
   "execution_count": 44,
   "metadata": {},
   "outputs": [
    {
     "data": {
      "image/png": "[encoded data removed]",
      "text/plain": [
       "<Figure size 432x288 with 1 Axes>"
      ]
     },
     "metadata": {
      "needs_background": "light"
     },
     "output_type": "display_data"
    }
   ],
   "source": [
    "#Plot the results as a histogram\n",
    "Last12_tobs_DF.plot.hist(by=\"Temperature_Recorded\",bins=12,label=\"tobs\",title=f'Temperature Frequency for {Station_Highest_Obs[0]} from {Start_Date} till {End_Date}')\n",
    "plt.ylim=(0,80)\n",
    "plt.ylabel(\"Frequency of Temperature\")\n",
    "plt.xlabel(\"Temperature (F)\")\n",
    "plt.legend=()\n",
    "plt.show()"
   ]
  },
  {
   "cell_type": "markdown",
   "metadata": {},
   "source": [
    "# STEP 2 CLIMATE APP"
   ]
  },
  {
   "cell_type": "code",
   "execution_count": 45,
   "metadata": {},
   "outputs": [],
   "source": [
    "import datetime as dt\n",
    "import numpy as np\n",
    "import pandas as pd\n",
    "\n",
    "import sqlalchemy\n",
    "from sqlalchemy.ext.automap import automap_base\n",
    "from sqlalchemy.orm import Session\n",
    "from sqlalchemy import create_engine, func\n",
    "\n",
    "from flask import Flask, jsonify"
   ]
  },
  {
   "cell_type": "code",
   "execution_count": 47,
   "metadata": {},
   "outputs": [],
   "source": [
    "#################################################\n",
    "# Database Setup\n",
    "#################################################\n",
    "engine = create_engine(\"sqlite:////Users/arunima_menon/Downloads/Resources/hawaii.sqlite\")\n",
    "\n",
    "# reflect an existing database into a new model\n",
    "Base = automap_base()\n",
    "# reflect the tables\n",
    "Base.prepare(engine, reflect=True)\n",
    "\n",
    "# Save reference to the table\n",
    "Measurement = Base.classes.measurement\n",
    "Station = Base.classes.station\n",
    "\n",
    "# Create our session (link) from Python to the DB\n",
    "session = Session(engine)"
   ]
  },
  {
   "cell_type": "code",
   "execution_count": 48,
   "metadata": {},
   "outputs": [],
   "source": [
    "# Function to calucate date range (Last date present in the database and previous year date)\n",
    "def date_calc():\n",
    "    #Retreive the latest date present in the database\n",
    "    Latest_date = session.query(func.max(Measurement.date)).all()\n",
    "   \n",
    "    #Calculating 1 year date range\n",
    "    today = dt.date.today()\n",
    "    #Format the latest date in date format\n",
    "    Lastest_date_datefmt = today.replace(year=int(Latest_date[0][0][:4]),\\\n",
    "                                        month=int(Latest_date[0][0][5:7]),\\\n",
    "                                        day=int(Latest_date[0][0][8:]))\n",
    "    \n",
    "    # Calculate the date 1 year ago from the latest_date\n",
    "    One_Year_backdate = Lastest_date_datefmt-dt.timedelta(days=365)\n",
    "    \n",
    "    This_Year_End_Date = Lastest_date_datefmt.strftime(\"%Y-%m-%d\")\n",
    "    Previous_Year_Start_Date = One_Year_backdate.strftime(\"%Y-%m-%d\")\n",
    "    \n",
    "    Year_list = [Previous_Year_Start_Date,This_Year_End_Date]\n",
    "    return(tuple(Year_list))"
   ]
  },
  {
   "cell_type": "code",
   "execution_count": 49,
   "metadata": {},
   "outputs": [],
   "source": [
    "#################################################\n",
    "# Flask Setup\n",
    "#################################################\n",
    "app = Flask(__name__)"
   ]
  },
  {
   "cell_type": "code",
   "execution_count": 50,
   "metadata": {},
   "outputs": [],
   "source": [
    "#################################################\n",
    "# Flask Routes\n",
    "#################################################\n",
    "@app.route(\"/\")\n",
    "def welcome():\n",
    "    \"\"\"List all available api routes.\"\"\"\n",
    "    return(\n",
    "        f\"Note: Paste the routes in the browsing after the default link<br/>\"\n",
    "        f\"Available Routes Below:<br/>\"\n",
    "        f\"<br/>\"\n",
    "        f\"/api/v1.0/precipitation<br/>\"\n",
    "        f\"<br/>\"\n",
    "        f\"/api/v1.0/stations<br/>\"\n",
    "        f\"<br/>\"\n",
    "        f\"/api/v1.0/tobs<br/>\"\n",
    "        f\"<br/>\"\n",
    "        f\"/api/v1.0/<start><br/>\"\n",
    "        f\"Put the start date in 'YYYY-MM-DD' format<br/>\"\n",
    "        f\"<br/>\"\n",
    "        f\"/api/v1.0/<start>/<end><br/>\"   \n",
    "        f\"Put the dates in 'YYYY-MM-DD/YYYY-MM-DD' format<br/>\"\n",
    "        )  \n",
    "\n",
    "@app.route(\"/api/v1.0/precipitation\")\n",
    "def precipitation():\n",
    "    \"\"\"\n",
    "        Query for the dates and temperature observations from the last year.\n",
    "        Convert the query results to a Dictionary using date as the key and tobs as the value.\n",
    "        Return the JSON representation of your dictionary.\n",
    "        \n",
    "        Important Notes: Instead of tobs, performing the query for prcp as the route states \"precipitation\".\n",
    "                        Returning list of dictionaries.\n",
    "                        Also, to make it more clear, I am adding the station id.\n",
    "    \"\"\"\n",
    "    # Calling date_calc function to get the start & end date of the previous year\n",
    "    Range = date_calc()\n",
    "    End_date = Range[1]\n",
    "    Start_date = Range[0]\n",
    "    # Query for the dates and temperature observations from the last year.\n",
    "    results = session.query(Measurement.date, Measurement.station,Measurement.prcp).\\\n",
    "                                       filter(Measurement.date <= End_date).\\\n",
    "                                       filter(Measurement.date >= Start_date).all()                                                                  \n",
    "    list = []\n",
    "    for result in results:\n",
    "        dict = {\"Date\":result[0],\"Station\":result[1],\"Precipitation\":result[2]}\n",
    "        list.append(dict)\n",
    "    return jsonify(list)\n",
    "\n",
    "@app.route(\"/api/v1.0/stations\")\n",
    "def stations():\n",
    "    \"\"\" Return a JSON list of stations from the dataset in the form of dictionary.\n",
    "        Note: returning a JSON list of dictionaries instead of just list.\n",
    "    \"\"\"    \n",
    "    stations = session.query(Station.station,Station.name).all()\n",
    "    \n",
    "    list=[]\n",
    "    for station in stations:\n",
    "        dict = {\"Station ID:\":stations[0],\"Station Name\":stations[1]}\n",
    "        list.append(dict)\n",
    "\n",
    "    return jsonify(list)\n",
    "\n",
    "@app.route(\"/api/v1.0/tobs\")\n",
    "def tobs():\n",
    "    \"\"\" Return a JSON list of Temperature Observations (tobs) for the previous year.\"\"\"  \n",
    "    Range = date_calc()\n",
    "    End_date = Range[1]\n",
    "    Start_date = Range[0]\n",
    "    tobs = session.query(Measurement.date,Measurement.tobs).\\\n",
    "                            filter(Measurement.date <= End_date).\\\n",
    "                            filter(Measurement.date >= Start_date).all()\n",
    "    list = []\n",
    "    for temp in tobs:\n",
    "        dict = {\"date\": temp[0], \"tobs\": temp[1]}\n",
    "        list.append(dict)\n",
    "\n",
    "    return jsonify(list)  \n",
    "\n",
    "\"\"\" Return a JSON list of the minimum temperature, the average temperature, and the max temperature for a given start or start-end range.\n",
    "    Note: returning dictionary instead of list\"\"\"\n",
    "@app.route(\"/api/v1.0/<start>\")\n",
    "def tstart(start):\n",
    "    \"\"\" When given the start only, calculate `TMIN`, `TAVG`, and `TMAX` for all dates greater than and equal to the start date.\"\"\"\n",
    "    results = session.query(func.min(Measurement.tobs), func.avg(Measurement.tobs), func.max(Measurement.tobs)).\\\n",
    "              filter(Measurement.date >= start).order_by(Measurement.date.desc()).all()\n",
    "    #list = []\n",
    "    print(f\"Temperature Analysis for the dates greater than or equal to the start date\")\n",
    "    for temps in results:\n",
    "        dict = {\"Minimum Temp\":results[0][0],\"Average Temp\":results[0][1],\"Maximum Temp\":results[0][2]}\n",
    "        #list.append(dict)\n",
    "    return jsonify(dict) \n",
    "\n",
    "@app.route(\"/api/v1.0/<start>/<end>\")\n",
    "def tstartend(start,end):         \n",
    "    \"\"\" When given the start and the end date, calculate the `TMIN`, `TAVG`, and `TMAX` for dates between the start and end date inclusive. \"\"\"    \n",
    "    results = session.query(func.min(Measurement.tobs), func.avg(Measurement.tobs),func.max(Measurement.tobs)).\\\n",
    "                  filter(Measurement.date >= start, Measurement.date <= end).order_by(Measurement.date.desc()).all()\n",
    "    print(f\"Temperature Analysis for the dates greater than or equal to the start date and lesser than or equal to the end date\")\n",
    "    for temps in results:\n",
    "        dict = {\"Minimum Temp\":results[0][0],\"Average Temp\":results[0][1],\"Maximum Temp\":results[0][2]}\n",
    "    return jsonify(dict)   "
   ]
  },
  {
   "cell_type": "code",
   "execution_count": null,
   "metadata": {},
   "outputs": [],
   "source": [
    "if __name__ == '__main__':\n",
    "    app.run(debug=True)"
   ]
  },
  {
   "cell_type": "code",
   "execution_count": null,
   "metadata": {},
   "outputs": [],
   "source": []
  }
 ],
 "metadata": {
  "kernelspec": {
   "display_name": "Python 3",
   "language": "python",
   "name": "python3"
  },
  "language_info": {
   "codemirror_mode": {
    "name": "ipython",
    "version": 3
   },
   "file_extension": ".py",
   "mimetype": "text/x-python",
   "name": "python",
   "nbconvert_exporter": "python",
   "pygments_lexer": "ipython3",
   "version": "3.7.3"
  }
 },
 "nbformat": 4,
 "nbformat_minor": 2
}
